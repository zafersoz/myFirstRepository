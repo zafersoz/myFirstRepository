{
 "cells": [
  {
   "cell_type": "markdown",
   "id": "5297897c",
   "metadata": {},
   "source": [
    "# Data Science Tools and Ecosystem"
   ]
  },
  {
   "cell_type": "markdown",
   "id": "24eb8aa8",
   "metadata": {},
   "source": [
    "In this notebook, Data Science Tools and Ecosystem are summarized."
   ]
  },
  {
   "cell_type": "markdown",
   "id": "d68b26fe",
   "metadata": {},
   "source": [
    "Some of the popular languages that Data Scientists use are:\n",
    "1. Pyton\n",
    "2. R\n",
    "3. SQL\n",
    "4. SCALA\n"
   ]
  },
  {
   "cell_type": "markdown",
   "id": "7ec352ef",
   "metadata": {},
   "source": [
    "**Objectives:**\n",
    "- Data Science Tools\n",
    "- Arithmetic expression examples\n",
    "- Languages for Data Science"
   ]
  },
  {
   "cell_type": "markdown",
   "id": "d6e97725",
   "metadata": {},
   "source": [
    "Some of the commonly used libraries used by Data Scientists include:\n",
    "\n",
    "\n",
    "1. Numpy\n",
    "2. Pandas\n",
    "3. Matplotlib\n",
    "4. Scikit-learn\n",
    "5. TensorFlow"
   ]
  },
  {
   "cell_type": "markdown",
   "id": "51d1338b",
   "metadata": {},
   "source": [
    "| Data Science Tools |\n",
    "|------------------- |\n",
    "|Jupyter|\n",
    "|RStudio|\n",
    "|GitHub|\n",
    "|Apache Hadoop|"
   ]
  },
  {
   "cell_type": "markdown",
   "id": "464c9686",
   "metadata": {},
   "source": [
    "### Below are a few examples of evaluating arithmetic expressions in Python\n"
   ]
  },
  {
   "cell_type": "markdown",
   "id": "0559c56d",
   "metadata": {},
   "source": [
    "This a simple arithmetic expression to mutiply then add integers"
   ]
  },
  {
   "cell_type": "code",
   "execution_count": 11,
   "id": "4c60daf1",
   "metadata": {},
   "outputs": [
    {
     "data": {
      "text/plain": [
       "17"
      ]
     },
     "execution_count": 11,
     "metadata": {},
     "output_type": "execute_result"
    }
   ],
   "source": [
    "(3*4)+5"
   ]
  },
  {
   "cell_type": "markdown",
   "id": "3653d485",
   "metadata": {},
   "source": [
    "This will convert 200 minutes to hours by diving by 60"
   ]
  },
  {
   "cell_type": "code",
   "execution_count": 44,
   "id": "78d5c121",
   "metadata": {},
   "outputs": [
    {
     "name": "stdout",
     "output_type": "stream",
     "text": [
      "3 20\n"
     ]
    }
   ],
   "source": [
    "minutes = 200 % 60\n",
    "hours = 200 // 60\n",
    "hours, minutes = divmod(200, 60)\n",
    "print(hours, minutes)"
   ]
  },
  {
   "cell_type": "markdown",
   "id": "8b2ceffb",
   "metadata": {},
   "source": [
    "## Author\n",
    "[ZAFER ERSÖZ](https://www.linkedin.com/in/zafer-ers%C3%B6z-3069b4213)"
   ]
  },
  {
   "cell_type": "code",
   "execution_count": null,
   "id": "27ab8a64",
   "metadata": {},
   "outputs": [],
   "source": []
  }
 ],
 "metadata": {
  "kernelspec": {
   "display_name": "Python 3 (ipykernel)",
   "language": "python",
   "name": "python3"
  },
  "language_info": {
   "codemirror_mode": {
    "name": "ipython",
    "version": 3
   },
   "file_extension": ".py",
   "mimetype": "text/x-python",
   "name": "python",
   "nbconvert_exporter": "python",
   "pygments_lexer": "ipython3",
   "version": "3.9.17"
  }
 },
 "nbformat": 4,
 "nbformat_minor": 5
}
